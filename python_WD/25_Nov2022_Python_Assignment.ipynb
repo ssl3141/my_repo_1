{
 "cells": [
  {
   "cell_type": "markdown",
   "id": "308a274e",
   "metadata": {},
   "source": [
    "# Q. You have to calculate IT for some people until user enters income as 0"
   ]
  },
  {
   "cell_type": "code",
   "execution_count": 23,
   "id": "c4edbd91",
   "metadata": {},
   "outputs": [
    {
     "name": "stdout",
     "output_type": "stream",
     "text": [
      "Enter income: 500000\n",
      "Income tax is: 12500.0\n",
      "Enter income: 600000\n",
      "Income tax is: 22500.0\n",
      "Enter income: 0\n"
     ]
    }
   ],
   "source": [
    "flag=1\n",
    "\n",
    "while(flag):\n",
    "    \n",
    "    income = float(input('Enter income: '))\n",
    "    if income == 0:\n",
    "        flag = 0\n",
    "        break\n",
    "\n",
    "    firstsabMax = 250000 * 5/ 100\n",
    "    secondsabMax = 250000 * 10/ 100\n",
    "    thirdsabMax = 250000 * 15/ 100\n",
    "    fourthsabMax = 250000 * 20/ 100\n",
    "    fifththsabMax = 250000 * 25/ 100\n",
    "\n",
    "    if(income <= 250000):\n",
    "        incometax=0.0\n",
    "    elif(income >=250000 and income <= 500000):\n",
    "        incometax = ((income - 250000)*5)/100\n",
    "    elif(income >500000 and income <= 750000):\n",
    "        incometax = ((income - 500000)*10/100) + firstsabMax\n",
    "    elif(income >750000 and income <= 1000000):\n",
    "        incometax = ((income - 750000)*15/100)+ firstsabMax + secondsabMax\n",
    "    elif(income >1000000 and income <= 1250000):\n",
    "        incometax = ((income - 1000000)*20/100)+ firstsabMax + secondsabMax + thirdsabMax\n",
    "    elif(income >1250000 and income <= 1500000):\n",
    "        incometax = ((income - 1250000)*25/100)+ firstsabMax + secondsabMax + thirdsabMax+fourthsabMax\n",
    "    else:\n",
    "        incometax = ((income - 1500000)*30/100)+ firstsabMax + secondsabMax + thirdsabMax+fourthsabMax+fifththsabMax\n",
    "\n",
    "    print('Income tax is: '+str(incometax))\n",
    "\n",
    "    "
   ]
  },
  {
   "cell_type": "markdown",
   "id": "dc04ca72",
   "metadata": {},
   "source": [
    "# Q. Make a calculator. Take operands and operation as input. Stop the code when operation is other than the 7 arithmetics."
   ]
  },
  {
   "cell_type": "code",
   "execution_count": 58,
   "id": "59a3586e",
   "metadata": {},
   "outputs": [
    {
     "name": "stdout",
     "output_type": "stream",
     "text": [
      "Enter first operand: 132.43\n",
      "Enter operator: +\n",
      "Enter second operand: 43\n",
      "Result: 175.43\n",
      "Enter first operand: 55\n",
      "Enter operator: -\n",
      "Enter second operand: 21\n",
      "Result: 34.0\n",
      "Enter first operand: 2\n",
      "Enter operator: **\n",
      "Enter second operand: 3\n",
      "Result: 8.0\n",
      "Enter first operand: 10\n",
      "Enter operator: &\n",
      "Stopping loop since operator is other than the 7 archmetics operator\n"
     ]
    }
   ],
   "source": [
    "flag = 1\n",
    "while(flag == 1):\n",
    "    result = 0.0\n",
    "    operand1 = float(input('Enter first operand: '))\n",
    "    operator = input('Enter operator: ')\n",
    "    if operator == '+':\n",
    "        operand2 = float(input('Enter second operand: '))\n",
    "        result = operand1 + operand2\n",
    "    elif operator == '-':\n",
    "        operand2 = float(input('Enter second operand: '))\n",
    "        result = operand1 - operand2\n",
    "    elif operator == '*':\n",
    "        operand2 = float(input('Enter second operand: '))\n",
    "        result = operand1 * operand2\n",
    "    elif operator == '/':\n",
    "        operand2 = float(input('Enter second operand: '))\n",
    "        result = operand1 / operand2        \n",
    "    elif operator == '//':\n",
    "        operand2 = float(input('Enter second operand: '))\n",
    "        result = operand1 // operand2\n",
    "    elif operator == '**':\n",
    "        operand2 = float(input('Enter second operand: '))\n",
    "        result = operand1 ** operand2\n",
    "    elif operator == '%':\n",
    "        operand2 = float(input('Enter second operand: '))\n",
    "        result = operand1 % operand2\n",
    "    else:\n",
    "        print('Stopping loop since operator is other than the 7 archmetics operator')\n",
    "        flag = 0\n",
    "        break\n",
    "    print('Result: ' + str(result))"
   ]
  },
  {
   "cell_type": "markdown",
   "id": "1ec83d87",
   "metadata": {},
   "source": [
    "# Q. Make the whole grading system based on %age for a school. Take marks of 5 subjects.\n",
    " #         If marks in any subject is less then 40, print 'Failed' and Stop the code."
   ]
  },
  {
   "cell_type": "code",
   "execution_count": 54,
   "id": "cd6ebec4",
   "metadata": {},
   "outputs": [
    {
     "name": "stdout",
     "output_type": "stream",
     "text": [
      "Enter marks :123213\n",
      "Please enter valid marks between 0 to 100... \n",
      " Enter marks :55\n",
      "D Grade\n",
      "Enter marks :55\n",
      "D Grade\n",
      "Enter marks :55\n",
      "D Grade\n",
      "Enter marks :55\n",
      "D Grade\n",
      "Enter marks :55\n",
      "D Grade\n"
     ]
    }
   ],
   "source": [
    "\n",
    "for i in range(5):\n",
    "    marks = float(input('Enter marks :'))\n",
    "\n",
    "    if marks > 100 or marks < 0:\n",
    "        marks = float(input('Please enter valid marks between 0 to 100... \\n Enter marks :'))\n",
    "    \n",
    "    if marks < 40 :\n",
    "        print('Failed')\n",
    "        break\n",
    "                  \n",
    "    # Grade evaluation \n",
    "                  \n",
    "    if marks >= 90 and marks <=100:\n",
    "        print('A+ Grade')\n",
    "    elif marks >= 80 and marks <90:\n",
    "        print('A Grade')\n",
    "    elif marks >= 70 and marks <80:\n",
    "        print('B Grade')\n",
    "    elif marks >= 60 and marks <70:\n",
    "        print('C Grade')\n",
    "    elif marks >= 50 and marks <60:\n",
    "        print('D Grade')\n",
    "    elif marks >= 40 and marks <50:\n",
    "        print('D- Grade')\n",
    "\n",
    "\n",
    "    \n"
   ]
  },
  {
   "cell_type": "code",
   "execution_count": null,
   "id": "62d98541",
   "metadata": {},
   "outputs": [],
   "source": []
  }
 ],
 "metadata": {
  "kernelspec": {
   "display_name": "Python 3 (ipykernel)",
   "language": "python",
   "name": "python3"
  },
  "language_info": {
   "codemirror_mode": {
    "name": "ipython",
    "version": 3
   },
   "file_extension": ".py",
   "mimetype": "text/x-python",
   "name": "python",
   "nbconvert_exporter": "python",
   "pygments_lexer": "ipython3",
   "version": "3.9.12"
  }
 },
 "nbformat": 4,
 "nbformat_minor": 5
}
